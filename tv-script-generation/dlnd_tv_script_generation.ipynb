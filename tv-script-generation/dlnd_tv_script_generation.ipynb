{
 "cells": [
  {
   "cell_type": "markdown",
   "metadata": {
    "deletable": true,
    "editable": true
   },
   "source": [
    "# TV Script Generation\n",
    "In this project, you'll generate your own [Simpsons](https://en.wikipedia.org/wiki/The_Simpsons) TV scripts using RNNs.  You'll be using part of the [Simpsons dataset](https://www.kaggle.com/wcukierski/the-simpsons-by-the-data) of scripts from 27 seasons.  The Neural Network you'll build will generate a new TV script for a scene at [Moe's Tavern](https://simpsonswiki.com/wiki/Moe's_Tavern).\n",
    "## Get the Data\n",
    "The data is already provided for you.  You'll be using a subset of the original dataset.  It consists of only the scenes in Moe's Tavern.  This doesn't include other versions of the tavern, like \"Moe's Cavern\", \"Flaming Moe's\", \"Uncle Moe's Family Feed-Bag\", etc.."
   ]
  },
  {
   "cell_type": "code",
   "execution_count": 1,
   "metadata": {
    "collapsed": false,
    "deletable": true,
    "editable": true
   },
   "outputs": [],
   "source": [
    "\"\"\"\n",
    "DON'T MODIFY ANYTHING IN THIS CELL\n",
    "\"\"\"\n",
    "import helper\n",
    "\n",
    "data_dir = './data/simpsons/moes_tavern_lines.txt'\n",
    "text = helper.load_data(data_dir)\n",
    "# Ignore notice, since we don't use it for analysing the data\n",
    "text = text[81:]"
   ]
  },
  {
   "cell_type": "markdown",
   "metadata": {
    "deletable": true,
    "editable": true
   },
   "source": [
    "## Explore the Data\n",
    "Play around with `view_sentence_range` to view different parts of the data."
   ]
  },
  {
   "cell_type": "code",
   "execution_count": 2,
   "metadata": {
    "collapsed": false,
    "deletable": true,
    "editable": true
   },
   "outputs": [
    {
     "name": "stdout",
     "output_type": "stream",
     "text": [
      "Dataset Stats\n",
      "Roughly the number of unique words: 11492\n",
      "Number of scenes: 262\n",
      "Average number of sentences in each scene: 15.251908396946565\n",
      "Number of lines: 4258\n",
      "Average number of words in each line: 11.50164396430249\n",
      "\n",
      "The sentences 0 to 10:\n",
      "\n",
      "Moe_Szyslak: (INTO PHONE) Moe's Tavern. Where the elite meet to drink.\n",
      "Bart_Simpson: Eh, yeah, hello, is Mike there? Last name, Rotch.\n",
      "Moe_Szyslak: (INTO PHONE) Hold on, I'll check. (TO BARFLIES) Mike Rotch. Mike Rotch. Hey, has anybody seen Mike Rotch, lately?\n",
      "Moe_Szyslak: (INTO PHONE) Listen you little puke. One of these days I'm gonna catch you, and I'm gonna carve my name on your back with an ice pick.\n",
      "Moe_Szyslak: What's the matter Homer? You're not your normal effervescent self.\n",
      "Homer_Simpson: I got my problems, Moe. Give me another one.\n",
      "Moe_Szyslak: Homer, hey, you should not drink to forget your problems.\n",
      "Barney_Gumble: Yeah, you should only drink to enhance your social skills.\n",
      "\n"
     ]
    }
   ],
   "source": [
    "view_sentence_range = (0, 10)\n",
    "\n",
    "\"\"\"\n",
    "DON'T MODIFY ANYTHING IN THIS CELL\n",
    "\"\"\"\n",
    "import numpy as np\n",
    "\n",
    "print('Dataset Stats')\n",
    "print('Roughly the number of unique words: {}'.format(len({word: None for word in text.split()})))\n",
    "scenes = text.split('\\n\\n')\n",
    "print('Number of scenes: {}'.format(len(scenes)))\n",
    "sentence_count_scene = [scene.count('\\n') for scene in scenes]\n",
    "print('Average number of sentences in each scene: {}'.format(np.average(sentence_count_scene)))\n",
    "\n",
    "sentences = [sentence for scene in scenes for sentence in scene.split('\\n')]\n",
    "print('Number of lines: {}'.format(len(sentences)))\n",
    "word_count_sentence = [len(sentence.split()) for sentence in sentences]\n",
    "print('Average number of words in each line: {}'.format(np.average(word_count_sentence)))\n",
    "\n",
    "print()\n",
    "print('The sentences {} to {}:'.format(*view_sentence_range))\n",
    "print('\\n'.join(text.split('\\n')[view_sentence_range[0]:view_sentence_range[1]]))"
   ]
  },
  {
   "cell_type": "markdown",
   "metadata": {
    "deletable": true,
    "editable": true
   },
   "source": [
    "## Implement Preprocessing Functions\n",
    "The first thing to do to any dataset is preprocessing.  Implement the following preprocessing functions below:\n",
    "- Lookup Table\n",
    "- Tokenize Punctuation\n",
    "\n",
    "### Lookup Table\n",
    "To create a word embedding, you first need to transform the words to ids.  In this function, create two dictionaries:\n",
    "- Dictionary to go from the words to an id, we'll call `vocab_to_int`\n",
    "- Dictionary to go from the id to word, we'll call `int_to_vocab`\n",
    "\n",
    "Return these dictionaries in the following tuple `(vocab_to_int, int_to_vocab)`"
   ]
  },
  {
   "cell_type": "code",
   "execution_count": 3,
   "metadata": {
    "collapsed": false,
    "deletable": true,
    "editable": true
   },
   "outputs": [
    {
     "name": "stdout",
     "output_type": "stream",
     "text": [
      "Tests Passed\n"
     ]
    }
   ],
   "source": [
    "import numpy as np\n",
    "import problem_unittests as tests\n",
    "\n",
    "def create_lookup_tables(text):\n",
    "    \"\"\"\n",
    "    Create lookup tables for vocabulary\n",
    "    :param text: The text of tv scripts split into words\n",
    "    :return: A tuple of dicts (vocab_to_int, int_to_vocab)\n",
    "    \"\"\"\n",
    "    # TODO: Implement Function\n",
    "    # Reused code from the Anna_KaRNNa notebook. I have mixed feelings about that pun.\n",
    "    vocab = sorted(set(text))\n",
    "    vocab_to_int = {c: i for i, c in enumerate(vocab)}\n",
    "    int_to_vocab = dict(enumerate(vocab))\n",
    "    return (vocab_to_int, int_to_vocab)\n",
    "\n",
    "\n",
    "\"\"\"\n",
    "DON'T MODIFY ANYTHING IN THIS CELL THAT IS BELOW THIS LINE\n",
    "\"\"\"\n",
    "tests.test_create_lookup_tables(create_lookup_tables)"
   ]
  },
  {
   "cell_type": "markdown",
   "metadata": {
    "deletable": true,
    "editable": true
   },
   "source": [
    "### Tokenize Punctuation\n",
    "We'll be splitting the script into a word array using spaces as delimiters.  However, punctuations like periods and exclamation marks make it hard for the neural network to distinguish between the word \"bye\" and \"bye!\".\n",
    "\n",
    "Implement the function `token_lookup` to return a dict that will be used to tokenize symbols like \"!\" into \"||Exclamation_Mark||\".  Create a dictionary for the following symbols where the symbol is the key and value is the token:\n",
    "- Period ( . )\n",
    "- Comma ( , )\n",
    "- Quotation Mark ( \" )\n",
    "- Semicolon ( ; )\n",
    "- Exclamation mark ( ! )\n",
    "- Question mark ( ? )\n",
    "- Left Parentheses ( ( )\n",
    "- Right Parentheses ( ) )\n",
    "- Dash ( -- )\n",
    "- Return ( \\n )\n",
    "\n",
    "This dictionary will be used to token the symbols and add the delimiter (space) around it.  This separates the symbols as it's own word, making it easier for the neural network to predict on the next word. Make sure you don't use a token that could be confused as a word. Instead of using the token \"dash\", try using something like \"||dash||\"."
   ]
  },
  {
   "cell_type": "code",
   "execution_count": 4,
   "metadata": {
    "collapsed": false,
    "deletable": true,
    "editable": true
   },
   "outputs": [
    {
     "name": "stdout",
     "output_type": "stream",
     "text": [
      "Tests Passed\n"
     ]
    }
   ],
   "source": [
    "def token_lookup():\n",
    "    \"\"\"\n",
    "    Generate a dict to turn punctuation into a token.\n",
    "    :return: Tokenize dictionary where the key is the punctuation and the value is the token\n",
    "    \"\"\"\n",
    "    # TODO: Implement Function\n",
    "    lookupTable = {\n",
    "        '.': '||PERIOD||', \n",
    "        ',': '||COMMA||', \n",
    "        '\"': '||QUOTATION_MARK||',\n",
    "        ';': '||SEMICOLON||', \n",
    "        '!': '||EXCLAMATION_MARK||', \n",
    "        '?': '||QUESTION_MARK||',\n",
    "        '(': '||LEFT_PAREN||', \n",
    "        ')': '||RIGHT_PAREN||', \n",
    "        '--': '||HYPHENS||',\n",
    "        '?': '||QUESTION_MARK||', \n",
    "        '\\n': '||NEW_LINE||', \n",
    "    }\n",
    "    return lookupTable\n",
    "\n",
    "\"\"\"\n",
    "DON'T MODIFY ANYTHING IN THIS CELL THAT IS BELOW THIS LINE\n",
    "\"\"\"\n",
    "tests.test_tokenize(token_lookup)"
   ]
  },
  {
   "cell_type": "markdown",
   "metadata": {
    "deletable": true,
    "editable": true
   },
   "source": [
    "## Preprocess all the data and save it\n",
    "Running the code cell below will preprocess all the data and save it to file."
   ]
  },
  {
   "cell_type": "code",
   "execution_count": 5,
   "metadata": {
    "collapsed": false,
    "deletable": true,
    "editable": true
   },
   "outputs": [],
   "source": [
    "\"\"\"\n",
    "DON'T MODIFY ANYTHING IN THIS CELL\n",
    "\"\"\"\n",
    "# Preprocess Training, Validation, and Testing Data\n",
    "helper.preprocess_and_save_data(data_dir, token_lookup, create_lookup_tables)"
   ]
  },
  {
   "cell_type": "markdown",
   "metadata": {
    "deletable": true,
    "editable": true
   },
   "source": [
    "# Check Point\n",
    "This is your first checkpoint. If you ever decide to come back to this notebook or have to restart the notebook, you can start from here. The preprocessed data has been saved to disk."
   ]
  },
  {
   "cell_type": "code",
   "execution_count": 6,
   "metadata": {
    "collapsed": false,
    "deletable": true,
    "editable": true
   },
   "outputs": [],
   "source": [
    "\"\"\"\n",
    "DON'T MODIFY ANYTHING IN THIS CELL\n",
    "\"\"\"\n",
    "import helper\n",
    "import numpy as np\n",
    "import problem_unittests as tests\n",
    "\n",
    "int_text, vocab_to_int, int_to_vocab, token_dict = helper.load_preprocess()"
   ]
  },
  {
   "cell_type": "markdown",
   "metadata": {
    "deletable": true,
    "editable": true
   },
   "source": [
    "## Build the Neural Network\n",
    "You'll build the components necessary to build a RNN by implementing the following functions below:\n",
    "- get_inputs\n",
    "- get_init_cell\n",
    "- get_embed\n",
    "- build_rnn\n",
    "- build_nn\n",
    "- get_batches\n",
    "\n",
    "### Check the Version of TensorFlow and Access to GPU"
   ]
  },
  {
   "cell_type": "code",
   "execution_count": 7,
   "metadata": {
    "collapsed": false,
    "deletable": true,
    "editable": true
   },
   "outputs": [
    {
     "name": "stdout",
     "output_type": "stream",
     "text": [
      "TensorFlow Version: 1.0.0\n",
      "Default GPU Device: /gpu:0\n"
     ]
    }
   ],
   "source": [
    "\"\"\"\n",
    "DON'T MODIFY ANYTHING IN THIS CELL\n",
    "\"\"\"\n",
    "from distutils.version import LooseVersion\n",
    "import warnings\n",
    "import tensorflow as tf\n",
    "\n",
    "# Check TensorFlow Version\n",
    "assert LooseVersion(tf.__version__) >= LooseVersion('1.0'), 'Please use TensorFlow version 1.0 or newer'\n",
    "print('TensorFlow Version: {}'.format(tf.__version__))\n",
    "\n",
    "# Check for a GPU\n",
    "if not tf.test.gpu_device_name():\n",
    "    warnings.warn('No GPU found. Please use a GPU to train your neural network.')\n",
    "else:\n",
    "    print('Default GPU Device: {}'.format(tf.test.gpu_device_name()))"
   ]
  },
  {
   "cell_type": "markdown",
   "metadata": {
    "deletable": true,
    "editable": true
   },
   "source": [
    "### Input\n",
    "Implement the `get_inputs()` function to create TF Placeholders for the Neural Network.  It should create the following placeholders:\n",
    "- Input text placeholder named \"input\" using the [TF Placeholder](https://www.tensorflow.org/api_docs/python/tf/placeholder) `name` parameter.\n",
    "- Targets placeholder\n",
    "- Learning Rate placeholder\n",
    "\n",
    "Return the placeholders in the following tuple `(Input, Targets, LearningRate)`"
   ]
  },
  {
   "cell_type": "code",
   "execution_count": 8,
   "metadata": {
    "collapsed": false,
    "deletable": true,
    "editable": true
   },
   "outputs": [
    {
     "name": "stdout",
     "output_type": "stream",
     "text": [
      "Tests Passed\n"
     ]
    }
   ],
   "source": [
    "def get_inputs():\n",
    "    \"\"\"\n",
    "    Create TF Placeholders for input, targets, and learning rate.\n",
    "    :return: Tuple (input, targets, learning rate)\n",
    "    \"\"\"\n",
    "    # TODO: Implement Function\n",
    "    inputs = tf.placeholder(tf.int32, shape=[None, None], name = 'input')\n",
    "    targets = tf.placeholder(tf.int32, shape=[None, None], name = 'targets')\n",
    "    learningRate = tf.placeholder(tf.float32, name = 'learningRate')\n",
    "    return (inputs, targets, learningRate)\n",
    "\n",
    "\n",
    "\"\"\"\n",
    "DON'T MODIFY ANYTHING IN THIS CELL THAT IS BELOW THIS LINE\n",
    "\"\"\"\n",
    "tests.test_get_inputs(get_inputs)"
   ]
  },
  {
   "cell_type": "markdown",
   "metadata": {
    "deletable": true,
    "editable": true
   },
   "source": [
    "### Build RNN Cell and Initialize\n",
    "Stack one or more [`BasicLSTMCells`](https://www.tensorflow.org/api_docs/python/tf/contrib/rnn/BasicLSTMCell) in a [`MultiRNNCell`](https://www.tensorflow.org/api_docs/python/tf/contrib/rnn/MultiRNNCell).\n",
    "- The Rnn size should be set using `rnn_size`\n",
    "- Initalize Cell State using the MultiRNNCell's [`zero_state()`](https://www.tensorflow.org/api_docs/python/tf/contrib/rnn/MultiRNNCell#zero_state) function\n",
    "    - Apply the name \"initial_state\" to the initial state using [`tf.identity()`](https://www.tensorflow.org/api_docs/python/tf/identity)\n",
    "\n",
    "Return the cell and initial state in the following tuple `(Cell, InitialState)`"
   ]
  },
  {
   "cell_type": "code",
   "execution_count": 9,
   "metadata": {
    "collapsed": false,
    "deletable": true,
    "editable": true
   },
   "outputs": [
    {
     "name": "stdout",
     "output_type": "stream",
     "text": [
      "Tests Passed\n"
     ]
    }
   ],
   "source": [
    "def get_init_cell(batch_size, rnn_size):\n",
    "    \"\"\"\n",
    "    Create an RNN Cell and initialize it.\n",
    "    :param batch_size: Size of batches\n",
    "    :param rnn_size: Size of RNNs\n",
    "    :return: Tuple (cell, initialize state)\n",
    "    \"\"\"\n",
    "    # TODO: Implement Function\n",
    "    keep_prob = 0.5 # tunable parameter for dropout\n",
    "    num_layers = 3 # tunable parameter for the number of LSTM layers in the network\n",
    "    \n",
    "    ### Build the LSTM Cell. From the Anna_KaRNNa exercise\n",
    "    def build_cell(lstm_size, keep_prob):\n",
    "        # Use a basic LSTM cell\n",
    "        lstm = tf.contrib.rnn.BasicLSTMCell(lstm_size)\n",
    "        \n",
    "        # Add dropout to the cell\n",
    "        drop = tf.contrib.rnn.DropoutWrapper(lstm, output_keep_prob=keep_prob)\n",
    "        return drop\n",
    "    \n",
    "    # Stack up multiple LSTM layers, for deep learning\n",
    "    # Modified from the Anna_KaRNNa exercise\n",
    "    cell = tf.contrib.rnn.MultiRNNCell([build_cell(rnn_size, keep_prob) for _ in range(num_layers)])\n",
    "    initial_state = cell.zero_state(batch_size, tf.float32)\n",
    "    initial_state = tf.identity(initial_state, name=\"initial_state\")\n",
    "    \n",
    "    return (cell, initial_state)\n",
    "\n",
    "\n",
    "\"\"\"\n",
    "DON'T MODIFY ANYTHING IN THIS CELL THAT IS BELOW THIS LINE\n",
    "\"\"\"\n",
    "tests.test_get_init_cell(get_init_cell)"
   ]
  },
  {
   "cell_type": "markdown",
   "metadata": {
    "deletable": true,
    "editable": true
   },
   "source": [
    "### Word Embedding\n",
    "Apply embedding to `input_data` using TensorFlow.  Return the embedded sequence."
   ]
  },
  {
   "cell_type": "code",
   "execution_count": 10,
   "metadata": {
    "collapsed": false,
    "deletable": true,
    "editable": true
   },
   "outputs": [
    {
     "name": "stdout",
     "output_type": "stream",
     "text": [
      "Tests Passed\n"
     ]
    }
   ],
   "source": [
    "def get_embed(input_data, vocab_size, embed_dim):\n",
    "    \"\"\"\n",
    "    Create embedding for <input_data>.\n",
    "    :param input_data: TF placeholder for text input.\n",
    "    :param vocab_size: Number of words in vocabulary.\n",
    "    :param embed_dim: Number of embedding dimensions\n",
    "    :return: Embedded input.\n",
    "    \"\"\"\n",
    "    # TODO: Implement Function\n",
    "    embedding = embedding = tf.Variable(tf.random_uniform((vocab_size, embed_dim), -1, 1))\n",
    "    embed = tf.nn.embedding_lookup(embedding, input_data)\n",
    "    return embed\n",
    "\n",
    "\n",
    "\"\"\"\n",
    "DON'T MODIFY ANYTHING IN THIS CELL THAT IS BELOW THIS LINE\n",
    "\"\"\"\n",
    "tests.test_get_embed(get_embed)"
   ]
  },
  {
   "cell_type": "markdown",
   "metadata": {
    "deletable": true,
    "editable": true
   },
   "source": [
    "### Build RNN\n",
    "You created a RNN Cell in the `get_init_cell()` function.  Time to use the cell to create a RNN.\n",
    "- Build the RNN using the [`tf.nn.dynamic_rnn()`](https://www.tensorflow.org/api_docs/python/tf/nn/dynamic_rnn)\n",
    " - Apply the name \"final_state\" to the final state using [`tf.identity()`](https://www.tensorflow.org/api_docs/python/tf/identity)\n",
    "\n",
    "Return the outputs and final_state state in the following tuple `(Outputs, FinalState)` "
   ]
  },
  {
   "cell_type": "code",
   "execution_count": 11,
   "metadata": {
    "collapsed": false,
    "deletable": true,
    "editable": true
   },
   "outputs": [
    {
     "name": "stdout",
     "output_type": "stream",
     "text": [
      "Tests Passed\n"
     ]
    }
   ],
   "source": [
    "def build_rnn(cell, inputs):\n",
    "    \"\"\"\n",
    "    Create a RNN using a RNN Cell\n",
    "    :param cell: RNN Cell\n",
    "    :param inputs: Input text data\n",
    "    :return: Tuple (Outputs, Final State)\n",
    "    \"\"\"\n",
    "    # TODO: Implement Function\n",
    "    outputs, final_state = tf.nn.dynamic_rnn(cell, inputs, dtype=tf.float32)\n",
    "    final_state = tf.identity(final_state, name='final_state')\n",
    "    return (outputs, final_state)\n",
    "\n",
    "\n",
    "\"\"\"\n",
    "DON'T MODIFY ANYTHING IN THIS CELL THAT IS BELOW THIS LINE\n",
    "\"\"\"\n",
    "tests.test_build_rnn(build_rnn)"
   ]
  },
  {
   "cell_type": "markdown",
   "metadata": {
    "deletable": true,
    "editable": true
   },
   "source": [
    "### Build the Neural Network\n",
    "Apply the functions you implemented above to:\n",
    "- Apply embedding to `input_data` using your `get_embed(input_data, vocab_size, embed_dim)` function.\n",
    "- Build RNN using `cell` and your `build_rnn(cell, inputs)` function.\n",
    "- Apply a fully connected layer with a linear activation and `vocab_size` as the number of outputs.\n",
    "\n",
    "Return the logits and final state in the following tuple (Logits, FinalState) "
   ]
  },
  {
   "cell_type": "code",
   "execution_count": 12,
   "metadata": {
    "collapsed": false,
    "deletable": true,
    "editable": true
   },
   "outputs": [
    {
     "name": "stdout",
     "output_type": "stream",
     "text": [
      "Tests Passed\n"
     ]
    }
   ],
   "source": [
    "def build_nn(cell, rnn_size, input_data, vocab_size, embed_dim):\n",
    "    \"\"\"\n",
    "    Build part of the neural network\n",
    "    :param cell: RNN cell\n",
    "    :param rnn_size: Size of rnns\n",
    "    :param input_data: Input data\n",
    "    :param vocab_size: Vocabulary size\n",
    "    :param embed_dim: Number of embedding dimensions\n",
    "    :return: Tuple (Logits, FinalState)\n",
    "    \"\"\"\n",
    "    # TODO: Implement Function\n",
    "    embeddedData = get_embed(input_data, vocab_size, embed_dim)\n",
    "    outputs, final_state = build_rnn(cell, embeddedData)\n",
    "    logits = tf.contrib.layers.fully_connected(outputs, vocab_size, activation_fn=None) # set to None to maintain linear activation\n",
    "    \n",
    "    return (logits, final_state)\n",
    "\n",
    "\n",
    "\"\"\"\n",
    "DON'T MODIFY ANYTHING IN THIS CELL THAT IS BELOW THIS LINE\n",
    "\"\"\"\n",
    "tests.test_build_nn(build_nn)"
   ]
  },
  {
   "cell_type": "markdown",
   "metadata": {
    "deletable": true,
    "editable": true
   },
   "source": [
    "### Batches\n",
    "Implement `get_batches` to create batches of input and targets using `int_text`.  The batches should be a Numpy array with the shape `(number of batches, 2, batch size, sequence length)`. Each batch contains two elements:\n",
    "- The first element is a single batch of **input** with the shape `[batch size, sequence length]`\n",
    "- The second element is a single batch of **targets** with the shape `[batch size, sequence length]`\n",
    "\n",
    "If you can't fill the last batch with enough data, drop the last batch.\n",
    "\n",
    "For example, `get_batches([1, 2, 3, 4, 5, 6, 7, 8, 9, 10, 11, 12, 13, 14, 15, 16, 17, 18, 19, 20], 3, 2)` would return a Numpy array of the following:\n",
    "```\n",
    "[\n",
    "  # First Batch\n",
    "  [\n",
    "    # Batch of Input\n",
    "    [[ 1  2], [ 7  8], [13 14]]\n",
    "    # Batch of targets\n",
    "    [[ 2  3], [ 8  9], [14 15]]\n",
    "  ]\n",
    "\n",
    "  # Second Batch\n",
    "  [\n",
    "    # Batch of Input\n",
    "    [[ 3  4], [ 9 10], [15 16]]\n",
    "    # Batch of targets\n",
    "    [[ 4  5], [10 11], [16 17]]\n",
    "  ]\n",
    "\n",
    "  # Third Batch\n",
    "  [\n",
    "    # Batch of Input\n",
    "    [[ 5  6], [11 12], [17 18]]\n",
    "    # Batch of targets\n",
    "    [[ 6  7], [12 13], [18  1]]\n",
    "  ]\n",
    "]\n",
    "```\n",
    "\n",
    "Notice that the last target value in the last batch is the first input value of the first batch. In this case, `1`. This is a common technique used when creating sequence batches, although it is rather unintuitive."
   ]
  },
  {
   "cell_type": "code",
   "execution_count": 13,
   "metadata": {
    "collapsed": false,
    "deletable": true,
    "editable": true
   },
   "outputs": [
    {
     "name": "stdout",
     "output_type": "stream",
     "text": [
      "Tests Passed\n"
     ]
    }
   ],
   "source": [
    "def get_batches(int_text, batch_size, seq_length):\n",
    "    \"\"\"\n",
    "    Return batches of input and target\n",
    "    :param int_text: Text with the words replaced by their ids\n",
    "    :param batch_size: The size of batch\n",
    "    :param seq_length: The length of sequence\n",
    "    :return: Batches as a Numpy array\n",
    "    \"\"\"\n",
    "    # TODO: Implement Function\n",
    "    # Get the number of characters per batch and number of batches we can make\n",
    "    #print(\"batch size: \", batch_size, \", seq. length: \", seq_length)\n",
    "    words_per_batch = batch_size * seq_length\n",
    "    #print(\"Words per batch: \", words_per_batch)\n",
    "    n_batches = len(int_text) // words_per_batch\n",
    "    #print(\"Number of batches: \", n_batches)\n",
    "    \n",
    "    # Keep only enough characters to make full batches\n",
    "    int_text = int_text[:n_batches * words_per_batch]\n",
    "    \n",
    "    # Reshape into batch_size rows\n",
    "    np_int_text = np.array(int_text)\n",
    "    targets = np.array(np_int_text)\n",
    "    targets[0:-1], targets[-1] = np_int_text[1:],np_int_text[0]\n",
    "\n",
    "    inputs = np_int_text.reshape(batch_size, -1)\n",
    "    targets = targets.reshape(batch_size, -1)\n",
    "   \n",
    "    inputs = np.split(inputs, n_batches, -1)\n",
    "    targets = np.split(targets, n_batches, -1)\n",
    "    \n",
    "    batches = np.array(list(zip(inputs, targets)))\n",
    "    \n",
    "    return batches\n",
    "    \n",
    "\"\"\"\n",
    "DON'T MODIFY ANYTHING IN THIS CELL THAT IS BELOW THIS LINE\n",
    "\"\"\"\n",
    "tests.test_get_batches(get_batches)"
   ]
  },
  {
   "cell_type": "markdown",
   "metadata": {
    "deletable": true,
    "editable": true
   },
   "source": [
    "## Neural Network Training\n",
    "### Hyperparameters\n",
    "Tune the following parameters:\n",
    "\n",
    "- Set `num_epochs` to the number of epochs.\n",
    "- Set `batch_size` to the batch size.\n",
    "- Set `rnn_size` to the size of the RNNs.\n",
    "- Set `embed_dim` to the size of the embedding.\n",
    "- Set `seq_length` to the length of sequence.\n",
    "- Set `learning_rate` to the learning rate.\n",
    "- Set `show_every_n_batches` to the number of batches the neural network should print progress."
   ]
  },
  {
   "cell_type": "code",
   "execution_count": 14,
   "metadata": {
    "collapsed": true,
    "deletable": true,
    "editable": true
   },
   "outputs": [],
   "source": [
    "# Number of Epochs\n",
    "num_epochs = 350\n",
    "# Batch Size\n",
    "batch_size = 256\n",
    "# RNN Size\n",
    "rnn_size = 512\n",
    "# Embedding Dimension Size\n",
    "embed_dim = 512\n",
    "# Sequence Length\n",
    "seq_length = 11\n",
    "# Learning Rate\n",
    "learning_rate = 0.001\n",
    "# Show stats for every n number of batches\n",
    "show_every_n_batches = 20\n",
    "\n",
    "\"\"\"\n",
    "DON'T MODIFY ANYTHING IN THIS CELL THAT IS BELOW THIS LINE\n",
    "\"\"\"\n",
    "save_dir = './save'"
   ]
  },
  {
   "cell_type": "markdown",
   "metadata": {
    "deletable": true,
    "editable": true
   },
   "source": [
    "### Build the Graph\n",
    "Build the graph using the neural network you implemented."
   ]
  },
  {
   "cell_type": "code",
   "execution_count": 15,
   "metadata": {
    "collapsed": false,
    "deletable": true,
    "editable": true
   },
   "outputs": [],
   "source": [
    "\"\"\"\n",
    "DON'T MODIFY ANYTHING IN THIS CELL\n",
    "\"\"\"\n",
    "from tensorflow.contrib import seq2seq\n",
    "\n",
    "train_graph = tf.Graph()\n",
    "with train_graph.as_default():\n",
    "    vocab_size = len(int_to_vocab)\n",
    "    input_text, targets, lr = get_inputs()\n",
    "    input_data_shape = tf.shape(input_text)\n",
    "    cell, initial_state = get_init_cell(input_data_shape[0], rnn_size)\n",
    "    logits, final_state = build_nn(cell, rnn_size, input_text, vocab_size, embed_dim)\n",
    "\n",
    "    # Probabilities for generating words\n",
    "    probs = tf.nn.softmax(logits, name='probs')\n",
    "\n",
    "    # Loss function\n",
    "    cost = seq2seq.sequence_loss(\n",
    "        logits,\n",
    "        targets,\n",
    "        tf.ones([input_data_shape[0], input_data_shape[1]]))\n",
    "\n",
    "    # Optimizer\n",
    "    optimizer = tf.train.AdamOptimizer(lr)\n",
    "\n",
    "    # Gradient Clipping\n",
    "    gradients = optimizer.compute_gradients(cost)\n",
    "    capped_gradients = [(tf.clip_by_value(grad, -1., 1.), var) for grad, var in gradients if grad is not None]\n",
    "    train_op = optimizer.apply_gradients(capped_gradients)"
   ]
  },
  {
   "cell_type": "markdown",
   "metadata": {
    "deletable": true,
    "editable": true
   },
   "source": [
    "## Train\n",
    "Train the neural network on the preprocessed data.  If you have a hard time getting a good loss, check the [forums](https://discussions.udacity.com/) to see if anyone is having the same problem."
   ]
  },
  {
   "cell_type": "code",
   "execution_count": 17,
   "metadata": {
    "collapsed": false,
    "deletable": true,
    "editable": true
   },
   "outputs": [
    {
     "name": "stdout",
     "output_type": "stream",
     "text": [
      "Epoch   0 Batch    0/24   train_loss = 8.822\n",
      "Epoch   0 Batch   20/24   train_loss = 6.412\n",
      "Epoch   1 Batch   16/24   train_loss = 6.187\n",
      "Epoch   2 Batch   12/24   train_loss = 6.168\n",
      "Epoch   3 Batch    8/24   train_loss = 6.165\n",
      "Epoch   4 Batch    4/24   train_loss = 5.989\n",
      "Epoch   5 Batch    0/24   train_loss = 5.918\n",
      "Epoch   5 Batch   20/24   train_loss = 6.026\n",
      "Epoch   6 Batch   16/24   train_loss = 6.039\n",
      "Epoch   7 Batch   12/24   train_loss = 6.080\n",
      "Epoch   8 Batch    8/24   train_loss = 6.111\n",
      "Epoch   9 Batch    4/24   train_loss = 5.947\n",
      "Epoch  10 Batch    0/24   train_loss = 5.851\n",
      "Epoch  10 Batch   20/24   train_loss = 5.923\n",
      "Epoch  11 Batch   16/24   train_loss = 5.861\n",
      "Epoch  12 Batch   12/24   train_loss = 5.853\n",
      "Epoch  13 Batch    8/24   train_loss = 5.879\n",
      "Epoch  14 Batch    4/24   train_loss = 5.634\n",
      "Epoch  15 Batch    0/24   train_loss = 5.551\n",
      "Epoch  15 Batch   20/24   train_loss = 5.623\n",
      "Epoch  16 Batch   16/24   train_loss = 5.600\n",
      "Epoch  17 Batch   12/24   train_loss = 5.583\n",
      "Epoch  18 Batch    8/24   train_loss = 5.544\n",
      "Epoch  19 Batch    4/24   train_loss = 5.232\n",
      "Epoch  20 Batch    0/24   train_loss = 5.163\n",
      "Epoch  20 Batch   20/24   train_loss = 5.205\n",
      "Epoch  21 Batch   16/24   train_loss = 5.157\n",
      "Epoch  22 Batch   12/24   train_loss = 5.128\n",
      "Epoch  23 Batch    8/24   train_loss = 5.079\n",
      "Epoch  24 Batch    4/24   train_loss = 4.808\n",
      "Epoch  25 Batch    0/24   train_loss = 4.771\n",
      "Epoch  25 Batch   20/24   train_loss = 4.866\n",
      "Epoch  26 Batch   16/24   train_loss = 4.838\n",
      "Epoch  27 Batch   12/24   train_loss = 4.842\n",
      "Epoch  28 Batch    8/24   train_loss = 4.767\n",
      "Epoch  29 Batch    4/24   train_loss = 4.528\n",
      "Epoch  30 Batch    0/24   train_loss = 4.489\n",
      "Epoch  30 Batch   20/24   train_loss = 4.583\n",
      "Epoch  31 Batch   16/24   train_loss = 4.536\n",
      "Epoch  32 Batch   12/24   train_loss = 4.551\n",
      "Epoch  33 Batch    8/24   train_loss = 4.513\n",
      "Epoch  34 Batch    4/24   train_loss = 4.308\n",
      "Epoch  35 Batch    0/24   train_loss = 4.237\n",
      "Epoch  35 Batch   20/24   train_loss = 4.351\n",
      "Epoch  36 Batch   16/24   train_loss = 4.348\n",
      "Epoch  37 Batch   12/24   train_loss = 4.365\n",
      "Epoch  38 Batch    8/24   train_loss = 4.327\n",
      "Epoch  39 Batch    4/24   train_loss = 4.106\n",
      "Epoch  40 Batch    0/24   train_loss = 4.064\n",
      "Epoch  40 Batch   20/24   train_loss = 4.161\n",
      "Epoch  41 Batch   16/24   train_loss = 4.121\n",
      "Epoch  42 Batch   12/24   train_loss = 4.131\n",
      "Epoch  43 Batch    8/24   train_loss = 4.075\n",
      "Epoch  44 Batch    4/24   train_loss = 3.924\n",
      "Epoch  45 Batch    0/24   train_loss = 3.902\n",
      "Epoch  45 Batch   20/24   train_loss = 4.026\n",
      "Epoch  46 Batch   16/24   train_loss = 3.987\n",
      "Epoch  47 Batch   12/24   train_loss = 4.027\n",
      "Epoch  48 Batch    8/24   train_loss = 3.937\n",
      "Epoch  49 Batch    4/24   train_loss = 3.747\n",
      "Epoch  50 Batch    0/24   train_loss = 3.731\n",
      "Epoch  50 Batch   20/24   train_loss = 3.875\n",
      "Epoch  51 Batch   16/24   train_loss = 3.847\n",
      "Epoch  52 Batch   12/24   train_loss = 3.864\n",
      "Epoch  53 Batch    8/24   train_loss = 3.779\n",
      "Epoch  54 Batch    4/24   train_loss = 3.619\n",
      "Epoch  55 Batch    0/24   train_loss = 3.589\n",
      "Epoch  55 Batch   20/24   train_loss = 3.691\n",
      "Epoch  56 Batch   16/24   train_loss = 3.657\n",
      "Epoch  57 Batch   12/24   train_loss = 3.685\n",
      "Epoch  58 Batch    8/24   train_loss = 3.610\n",
      "Epoch  59 Batch    4/24   train_loss = 3.441\n",
      "Epoch  60 Batch    0/24   train_loss = 3.416\n",
      "Epoch  60 Batch   20/24   train_loss = 3.516\n",
      "Epoch  61 Batch   16/24   train_loss = 3.497\n",
      "Epoch  62 Batch   12/24   train_loss = 3.524\n",
      "Epoch  63 Batch    8/24   train_loss = 3.428\n",
      "Epoch  64 Batch    4/24   train_loss = 3.275\n",
      "Epoch  65 Batch    0/24   train_loss = 3.252\n",
      "Epoch  65 Batch   20/24   train_loss = 3.360\n",
      "Epoch  66 Batch   16/24   train_loss = 3.329\n",
      "Epoch  67 Batch   12/24   train_loss = 3.366\n",
      "Epoch  68 Batch    8/24   train_loss = 3.323\n",
      "Epoch  69 Batch    4/24   train_loss = 3.157\n",
      "Epoch  70 Batch    0/24   train_loss = 3.146\n",
      "Epoch  70 Batch   20/24   train_loss = 3.290\n",
      "Epoch  71 Batch   16/24   train_loss = 3.279\n",
      "Epoch  72 Batch   12/24   train_loss = 3.324\n",
      "Epoch  73 Batch    8/24   train_loss = 3.178\n",
      "Epoch  74 Batch    4/24   train_loss = 3.064\n",
      "Epoch  75 Batch    0/24   train_loss = 3.059\n",
      "Epoch  75 Batch   20/24   train_loss = 3.235\n",
      "Epoch  76 Batch   16/24   train_loss = 3.096\n",
      "Epoch  77 Batch   12/24   train_loss = 3.136\n",
      "Epoch  78 Batch    8/24   train_loss = 3.025\n",
      "Epoch  79 Batch    4/24   train_loss = 2.940\n",
      "Epoch  80 Batch    0/24   train_loss = 2.875\n",
      "Epoch  80 Batch   20/24   train_loss = 2.997\n",
      "Epoch  81 Batch   16/24   train_loss = 2.937\n",
      "Epoch  82 Batch   12/24   train_loss = 2.935\n",
      "Epoch  83 Batch    8/24   train_loss = 2.856\n",
      "Epoch  84 Batch    4/24   train_loss = 2.784\n",
      "Epoch  85 Batch    0/24   train_loss = 2.746\n",
      "Epoch  85 Batch   20/24   train_loss = 2.871\n",
      "Epoch  86 Batch   16/24   train_loss = 2.807\n",
      "Epoch  87 Batch   12/24   train_loss = 2.843\n",
      "Epoch  88 Batch    8/24   train_loss = 2.754\n",
      "Epoch  89 Batch    4/24   train_loss = 2.686\n",
      "Epoch  90 Batch    0/24   train_loss = 2.663\n",
      "Epoch  90 Batch   20/24   train_loss = 2.797\n",
      "Epoch  91 Batch   16/24   train_loss = 2.705\n",
      "Epoch  92 Batch   12/24   train_loss = 2.767\n",
      "Epoch  93 Batch    8/24   train_loss = 2.660\n",
      "Epoch  94 Batch    4/24   train_loss = 2.565\n",
      "Epoch  95 Batch    0/24   train_loss = 2.609\n",
      "Epoch  95 Batch   20/24   train_loss = 2.712\n",
      "Epoch  96 Batch   16/24   train_loss = 2.618\n",
      "Epoch  97 Batch   12/24   train_loss = 2.756\n",
      "Epoch  98 Batch    8/24   train_loss = 2.575\n",
      "Epoch  99 Batch    4/24   train_loss = 2.577\n",
      "Epoch 100 Batch    0/24   train_loss = 2.567\n",
      "Epoch 100 Batch   20/24   train_loss = 2.646\n",
      "Epoch 101 Batch   16/24   train_loss = 2.683\n",
      "Epoch 102 Batch   12/24   train_loss = 2.634\n",
      "Epoch 103 Batch    8/24   train_loss = 2.617\n",
      "Epoch 104 Batch    4/24   train_loss = 2.527\n",
      "Epoch 105 Batch    0/24   train_loss = 2.475\n",
      "Epoch 105 Batch   20/24   train_loss = 2.607\n",
      "Epoch 106 Batch   16/24   train_loss = 2.514\n",
      "Epoch 107 Batch   12/24   train_loss = 2.528\n",
      "Epoch 108 Batch    8/24   train_loss = 2.398\n",
      "Epoch 109 Batch    4/24   train_loss = 2.333\n",
      "Epoch 110 Batch    0/24   train_loss = 2.271\n",
      "Epoch 110 Batch   20/24   train_loss = 2.455\n",
      "Epoch 111 Batch   16/24   train_loss = 2.342\n",
      "Epoch 112 Batch   12/24   train_loss = 2.409\n",
      "Epoch 113 Batch    8/24   train_loss = 2.235\n",
      "Epoch 114 Batch    4/24   train_loss = 2.221\n",
      "Epoch 115 Batch    0/24   train_loss = 2.162\n",
      "Epoch 115 Batch   20/24   train_loss = 2.283\n",
      "Epoch 116 Batch   16/24   train_loss = 2.217\n",
      "Epoch 117 Batch   12/24   train_loss = 2.308\n",
      "Epoch 118 Batch    8/24   train_loss = 2.151\n",
      "Epoch 119 Batch    4/24   train_loss = 2.110\n",
      "Epoch 120 Batch    0/24   train_loss = 2.069\n",
      "Epoch 120 Batch   20/24   train_loss = 2.210\n",
      "Epoch 121 Batch   16/24   train_loss = 2.162\n",
      "Epoch 122 Batch   12/24   train_loss = 2.174\n",
      "Epoch 123 Batch    8/24   train_loss = 2.062\n",
      "Epoch 124 Batch    4/24   train_loss = 2.024\n",
      "Epoch 125 Batch    0/24   train_loss = 2.000\n",
      "Epoch 125 Batch   20/24   train_loss = 2.119\n",
      "Epoch 126 Batch   16/24   train_loss = 2.074\n",
      "Epoch 127 Batch   12/24   train_loss = 2.107\n",
      "Epoch 128 Batch    8/24   train_loss = 1.991\n",
      "Epoch 129 Batch    4/24   train_loss = 2.040\n",
      "Epoch 130 Batch    0/24   train_loss = 1.963\n",
      "Epoch 130 Batch   20/24   train_loss = 2.075\n",
      "Epoch 131 Batch   16/24   train_loss = 2.041\n",
      "Epoch 132 Batch   12/24   train_loss = 2.069\n",
      "Epoch 133 Batch    8/24   train_loss = 1.950\n",
      "Epoch 134 Batch    4/24   train_loss = 1.933\n",
      "Epoch 135 Batch    0/24   train_loss = 1.896\n",
      "Epoch 135 Batch   20/24   train_loss = 2.081\n",
      "Epoch 136 Batch   16/24   train_loss = 1.957\n",
      "Epoch 137 Batch   12/24   train_loss = 2.029\n",
      "Epoch 138 Batch    8/24   train_loss = 1.936\n",
      "Epoch 139 Batch    4/24   train_loss = 1.898\n",
      "Epoch 140 Batch    0/24   train_loss = 1.938\n",
      "Epoch 140 Batch   20/24   train_loss = 2.004\n",
      "Epoch 141 Batch   16/24   train_loss = 1.949\n",
      "Epoch 142 Batch   12/24   train_loss = 2.052\n",
      "Epoch 143 Batch    8/24   train_loss = 1.861\n",
      "Epoch 144 Batch    4/24   train_loss = 1.947\n",
      "Epoch 145 Batch    0/24   train_loss = 1.783\n",
      "Epoch 145 Batch   20/24   train_loss = 1.975\n",
      "Epoch 146 Batch   16/24   train_loss = 1.821\n",
      "Epoch 147 Batch   12/24   train_loss = 1.856\n",
      "Epoch 148 Batch    8/24   train_loss = 1.737\n",
      "Epoch 149 Batch    4/24   train_loss = 1.713\n",
      "Epoch 150 Batch    0/24   train_loss = 1.681\n",
      "Epoch 150 Batch   20/24   train_loss = 1.809\n",
      "Epoch 151 Batch   16/24   train_loss = 1.733\n",
      "Epoch 152 Batch   12/24   train_loss = 1.772\n",
      "Epoch 153 Batch    8/24   train_loss = 1.649\n",
      "Epoch 154 Batch    4/24   train_loss = 1.675\n",
      "Epoch 155 Batch    0/24   train_loss = 1.621\n",
      "Epoch 155 Batch   20/24   train_loss = 1.743\n",
      "Epoch 156 Batch   16/24   train_loss = 1.647\n",
      "Epoch 157 Batch   12/24   train_loss = 1.700\n",
      "Epoch 158 Batch    8/24   train_loss = 1.596\n",
      "Epoch 159 Batch    4/24   train_loss = 1.627\n",
      "Epoch 160 Batch    0/24   train_loss = 1.592\n",
      "Epoch 160 Batch   20/24   train_loss = 1.677\n",
      "Epoch 161 Batch   16/24   train_loss = 1.612\n",
      "Epoch 162 Batch   12/24   train_loss = 1.678\n",
      "Epoch 163 Batch    8/24   train_loss = 1.515\n",
      "Epoch 164 Batch    4/24   train_loss = 1.583\n",
      "Epoch 165 Batch    0/24   train_loss = 1.537\n",
      "Epoch 165 Batch   20/24   train_loss = 1.613\n",
      "Epoch 166 Batch   16/24   train_loss = 1.605\n",
      "Epoch 167 Batch   12/24   train_loss = 1.632\n",
      "Epoch 168 Batch    8/24   train_loss = 1.507\n",
      "Epoch 169 Batch    4/24   train_loss = 1.570\n",
      "Epoch 170 Batch    0/24   train_loss = 1.479\n",
      "Epoch 170 Batch   20/24   train_loss = 1.700\n",
      "Epoch 171 Batch   16/24   train_loss = 1.528\n",
      "Epoch 172 Batch   12/24   train_loss = 1.584\n",
      "Epoch 173 Batch    8/24   train_loss = 1.509\n",
      "Epoch 174 Batch    4/24   train_loss = 1.536\n",
      "Epoch 175 Batch    0/24   train_loss = 1.507\n",
      "Epoch 175 Batch   20/24   train_loss = 1.652\n",
      "Epoch 176 Batch   16/24   train_loss = 1.544\n",
      "Epoch 177 Batch   12/24   train_loss = 1.618\n",
      "Epoch 178 Batch    8/24   train_loss = 1.477\n",
      "Epoch 179 Batch    4/24   train_loss = 1.469\n",
      "Epoch 180 Batch    0/24   train_loss = 1.485\n",
      "Epoch 180 Batch   20/24   train_loss = 1.473\n",
      "Epoch 181 Batch   16/24   train_loss = 1.536\n",
      "Epoch 182 Batch   12/24   train_loss = 1.475\n",
      "Epoch 183 Batch    8/24   train_loss = 1.338\n",
      "Epoch 184 Batch    4/24   train_loss = 1.401\n",
      "Epoch 185 Batch    0/24   train_loss = 1.336\n",
      "Epoch 185 Batch   20/24   train_loss = 1.434\n",
      "Epoch 186 Batch   16/24   train_loss = 1.378\n",
      "Epoch 187 Batch   12/24   train_loss = 1.362\n",
      "Epoch 188 Batch    8/24   train_loss = 1.322\n",
      "Epoch 189 Batch    4/24   train_loss = 1.332\n",
      "Epoch 190 Batch    0/24   train_loss = 1.262\n",
      "Epoch 190 Batch   20/24   train_loss = 1.396\n",
      "Epoch 191 Batch   16/24   train_loss = 1.240\n",
      "Epoch 192 Batch   12/24   train_loss = 1.350\n",
      "Epoch 193 Batch    8/24   train_loss = 1.233\n",
      "Epoch 194 Batch    4/24   train_loss = 1.272\n",
      "Epoch 195 Batch    0/24   train_loss = 1.247\n",
      "Epoch 195 Batch   20/24   train_loss = 1.362\n",
      "Epoch 196 Batch   16/24   train_loss = 1.262\n",
      "Epoch 197 Batch   12/24   train_loss = 1.313\n",
      "Epoch 198 Batch    8/24   train_loss = 1.254\n",
      "Epoch 199 Batch    4/24   train_loss = 1.273\n",
      "Epoch 200 Batch    0/24   train_loss = 1.234\n",
      "Epoch 200 Batch   20/24   train_loss = 1.338\n",
      "Epoch 201 Batch   16/24   train_loss = 1.215\n",
      "Epoch 202 Batch   12/24   train_loss = 1.293\n",
      "Epoch 203 Batch    8/24   train_loss = 1.241\n",
      "Epoch 204 Batch    4/24   train_loss = 1.237\n",
      "Epoch 205 Batch    0/24   train_loss = 1.239\n",
      "Epoch 205 Batch   20/24   train_loss = 1.302\n",
      "Epoch 206 Batch   16/24   train_loss = 1.217\n",
      "Epoch 207 Batch   12/24   train_loss = 1.316\n",
      "Epoch 208 Batch    8/24   train_loss = 1.140\n",
      "Epoch 209 Batch    4/24   train_loss = 1.248\n",
      "Epoch 210 Batch    0/24   train_loss = 1.202\n",
      "Epoch 210 Batch   20/24   train_loss = 1.258\n",
      "Epoch 211 Batch   16/24   train_loss = 1.194\n",
      "Epoch 212 Batch   12/24   train_loss = 1.288\n",
      "Epoch 213 Batch    8/24   train_loss = 1.124\n",
      "Epoch 214 Batch    4/24   train_loss = 1.186\n",
      "Epoch 215 Batch    0/24   train_loss = 1.211\n",
      "Epoch 215 Batch   20/24   train_loss = 1.201\n",
      "Epoch 216 Batch   16/24   train_loss = 1.231\n",
      "Epoch 217 Batch   12/24   train_loss = 1.221\n",
      "Epoch 218 Batch    8/24   train_loss = 1.196\n",
      "Epoch 219 Batch    4/24   train_loss = 1.259\n",
      "Epoch 220 Batch    0/24   train_loss = 1.148\n",
      "Epoch 220 Batch   20/24   train_loss = 1.405\n",
      "Epoch 221 Batch   16/24   train_loss = 1.180\n",
      "Epoch 222 Batch   12/24   train_loss = 1.289\n",
      "Epoch 223 Batch    8/24   train_loss = 1.146\n",
      "Epoch 224 Batch    4/24   train_loss = 1.167\n",
      "Epoch 225 Batch    0/24   train_loss = 1.177\n",
      "Epoch 225 Batch   20/24   train_loss = 1.222\n",
      "Epoch 226 Batch   16/24   train_loss = 1.127\n",
      "Epoch 227 Batch   12/24   train_loss = 1.185\n",
      "Epoch 228 Batch    8/24   train_loss = 1.048\n",
      "Epoch 229 Batch    4/24   train_loss = 1.092\n",
      "Epoch 230 Batch    0/24   train_loss = 1.092\n",
      "Epoch 230 Batch   20/24   train_loss = 1.137\n",
      "Epoch 231 Batch   16/24   train_loss = 1.037\n",
      "Epoch 232 Batch   12/24   train_loss = 1.138\n",
      "Epoch 233 Batch    8/24   train_loss = 0.990\n",
      "Epoch 234 Batch    4/24   train_loss = 1.026\n",
      "Epoch 235 Batch    0/24   train_loss = 1.020\n",
      "Epoch 235 Batch   20/24   train_loss = 1.088\n",
      "Epoch 236 Batch   16/24   train_loss = 1.014\n",
      "Epoch 237 Batch   12/24   train_loss = 1.073\n",
      "Epoch 238 Batch    8/24   train_loss = 0.960\n",
      "Epoch 239 Batch    4/24   train_loss = 1.075\n",
      "Epoch 240 Batch    0/24   train_loss = 0.996\n",
      "Epoch 240 Batch   20/24   train_loss = 1.071\n",
      "Epoch 241 Batch   16/24   train_loss = 1.006\n",
      "Epoch 242 Batch   12/24   train_loss = 1.051\n",
      "Epoch 243 Batch    8/24   train_loss = 0.977\n",
      "Epoch 244 Batch    4/24   train_loss = 1.025\n",
      "Epoch 245 Batch    0/24   train_loss = 0.982\n",
      "Epoch 245 Batch   20/24   train_loss = 1.075\n",
      "Epoch 246 Batch   16/24   train_loss = 0.973\n",
      "Epoch 247 Batch   12/24   train_loss = 1.024\n",
      "Epoch 248 Batch    8/24   train_loss = 0.987\n",
      "Epoch 249 Batch    4/24   train_loss = 1.007\n",
      "Epoch 250 Batch    0/24   train_loss = 1.015\n",
      "Epoch 250 Batch   20/24   train_loss = 1.098\n",
      "Epoch 251 Batch   16/24   train_loss = 0.991\n",
      "Epoch 252 Batch   12/24   train_loss = 1.110\n",
      "Epoch 253 Batch    8/24   train_loss = 0.974\n",
      "Epoch 254 Batch    4/24   train_loss = 1.049\n",
      "Epoch 255 Batch    0/24   train_loss = 1.013\n",
      "Epoch 255 Batch   20/24   train_loss = 1.030\n",
      "Epoch 256 Batch   16/24   train_loss = 1.053\n",
      "Epoch 257 Batch   12/24   train_loss = 1.018\n",
      "Epoch 258 Batch    8/24   train_loss = 0.983\n",
      "Epoch 259 Batch    4/24   train_loss = 0.993\n",
      "Epoch 260 Batch    0/24   train_loss = 0.927\n",
      "Epoch 260 Batch   20/24   train_loss = 1.062\n",
      "Epoch 261 Batch   16/24   train_loss = 0.899\n",
      "Epoch 262 Batch   12/24   train_loss = 1.031\n",
      "Epoch 263 Batch    8/24   train_loss = 0.850\n",
      "Epoch 264 Batch    4/24   train_loss = 0.918\n",
      "Epoch 265 Batch    0/24   train_loss = 0.881\n",
      "Epoch 265 Batch   20/24   train_loss = 0.918\n",
      "Epoch 266 Batch   16/24   train_loss = 0.875\n",
      "Epoch 267 Batch   12/24   train_loss = 0.897\n",
      "Epoch 268 Batch    8/24   train_loss = 0.873\n",
      "Epoch 269 Batch    4/24   train_loss = 0.881\n",
      "Epoch 270 Batch    0/24   train_loss = 0.828\n",
      "Epoch 270 Batch   20/24   train_loss = 0.892\n",
      "Epoch 271 Batch   16/24   train_loss = 0.847\n",
      "Epoch 272 Batch   12/24   train_loss = 0.889\n",
      "Epoch 273 Batch    8/24   train_loss = 0.809\n",
      "Epoch 274 Batch    4/24   train_loss = 0.859\n",
      "Epoch 275 Batch    0/24   train_loss = 0.817\n",
      "Epoch 275 Batch   20/24   train_loss = 0.898\n",
      "Epoch 276 Batch   16/24   train_loss = 0.790\n",
      "Epoch 277 Batch   12/24   train_loss = 0.886\n",
      "Epoch 278 Batch    8/24   train_loss = 0.792\n",
      "Epoch 279 Batch    4/24   train_loss = 0.842\n",
      "Epoch 280 Batch    0/24   train_loss = 0.780\n",
      "Epoch 280 Batch   20/24   train_loss = 0.906\n",
      "Epoch 281 Batch   16/24   train_loss = 0.796\n",
      "Epoch 282 Batch   12/24   train_loss = 0.859\n",
      "Epoch 283 Batch    8/24   train_loss = 0.780\n",
      "Epoch 284 Batch    4/24   train_loss = 0.847\n",
      "Epoch 285 Batch    0/24   train_loss = 0.800\n",
      "Epoch 285 Batch   20/24   train_loss = 0.848\n",
      "Epoch 286 Batch   16/24   train_loss = 0.778\n",
      "Epoch 287 Batch   12/24   train_loss = 0.837\n",
      "Epoch 288 Batch    8/24   train_loss = 0.775\n",
      "Epoch 289 Batch    4/24   train_loss = 0.788\n",
      "Epoch 290 Batch    0/24   train_loss = 0.771\n",
      "Epoch 290 Batch   20/24   train_loss = 0.848\n",
      "Epoch 291 Batch   16/24   train_loss = 0.764\n",
      "Epoch 292 Batch   12/24   train_loss = 0.826\n",
      "Epoch 293 Batch    8/24   train_loss = 0.756\n",
      "Epoch 294 Batch    4/24   train_loss = 0.788\n",
      "Epoch 295 Batch    0/24   train_loss = 0.768\n",
      "Epoch 295 Batch   20/24   train_loss = 0.860\n",
      "Epoch 296 Batch   16/24   train_loss = 0.747\n",
      "Epoch 297 Batch   12/24   train_loss = 0.830\n",
      "Epoch 298 Batch    8/24   train_loss = 0.751\n",
      "Epoch 299 Batch    4/24   train_loss = 0.791\n",
      "Epoch 300 Batch    0/24   train_loss = 0.751\n",
      "Epoch 300 Batch   20/24   train_loss = 0.818\n",
      "Epoch 301 Batch   16/24   train_loss = 0.738\n",
      "Epoch 302 Batch   12/24   train_loss = 0.795\n",
      "Epoch 303 Batch    8/24   train_loss = 0.733\n",
      "Epoch 304 Batch    4/24   train_loss = 0.786\n",
      "Epoch 305 Batch    0/24   train_loss = 0.748\n",
      "Epoch 305 Batch   20/24   train_loss = 0.831\n",
      "Epoch 306 Batch   16/24   train_loss = 0.733\n",
      "Epoch 307 Batch   12/24   train_loss = 0.825\n",
      "Epoch 308 Batch    8/24   train_loss = 0.730\n",
      "Epoch 309 Batch    4/24   train_loss = 0.772\n",
      "Epoch 310 Batch    0/24   train_loss = 0.750\n",
      "Epoch 310 Batch   20/24   train_loss = 0.803\n",
      "Epoch 311 Batch   16/24   train_loss = 0.752\n",
      "Epoch 312 Batch   12/24   train_loss = 0.796\n",
      "Epoch 313 Batch    8/24   train_loss = 0.709\n",
      "Epoch 314 Batch    4/24   train_loss = 0.763\n",
      "Epoch 315 Batch    0/24   train_loss = 0.715\n",
      "Epoch 315 Batch   20/24   train_loss = 0.786\n",
      "Epoch 316 Batch   16/24   train_loss = 0.748\n",
      "Epoch 317 Batch   12/24   train_loss = 0.759\n",
      "Epoch 318 Batch    8/24   train_loss = 0.720\n",
      "Epoch 319 Batch    4/24   train_loss = 0.755\n",
      "Epoch 320 Batch    0/24   train_loss = 0.735\n",
      "Epoch 320 Batch   20/24   train_loss = 0.787\n",
      "Epoch 321 Batch   16/24   train_loss = 0.707\n",
      "Epoch 322 Batch   12/24   train_loss = 0.774\n",
      "Epoch 323 Batch    8/24   train_loss = 0.709\n",
      "Epoch 324 Batch    4/24   train_loss = 0.734\n",
      "Epoch 325 Batch    0/24   train_loss = 0.702\n",
      "Epoch 325 Batch   20/24   train_loss = 0.790\n",
      "Epoch 326 Batch   16/24   train_loss = 0.692\n",
      "Epoch 327 Batch   12/24   train_loss = 0.757\n",
      "Epoch 328 Batch    8/24   train_loss = 0.677\n",
      "Epoch 329 Batch    4/24   train_loss = 0.718\n",
      "Epoch 330 Batch    0/24   train_loss = 0.695\n",
      "Epoch 330 Batch   20/24   train_loss = 0.732\n",
      "Epoch 331 Batch   16/24   train_loss = 0.657\n",
      "Epoch 332 Batch   12/24   train_loss = 0.742\n",
      "Epoch 333 Batch    8/24   train_loss = 0.677\n",
      "Epoch 334 Batch    4/24   train_loss = 0.702\n",
      "Epoch 335 Batch    0/24   train_loss = 0.672\n",
      "Epoch 335 Batch   20/24   train_loss = 0.743\n",
      "Epoch 336 Batch   16/24   train_loss = 0.675\n",
      "Epoch 337 Batch   12/24   train_loss = 0.730\n",
      "Epoch 338 Batch    8/24   train_loss = 0.683\n",
      "Epoch 339 Batch    4/24   train_loss = 0.689\n",
      "Epoch 340 Batch    0/24   train_loss = 0.678\n",
      "Epoch 340 Batch   20/24   train_loss = 0.731\n",
      "Epoch 341 Batch   16/24   train_loss = 0.635\n",
      "Epoch 342 Batch   12/24   train_loss = 0.707\n",
      "Epoch 343 Batch    8/24   train_loss = 0.650\n",
      "Epoch 344 Batch    4/24   train_loss = 0.672\n",
      "Epoch 345 Batch    0/24   train_loss = 0.631\n",
      "Epoch 345 Batch   20/24   train_loss = 0.707\n",
      "Epoch 346 Batch   16/24   train_loss = 0.666\n",
      "Epoch 347 Batch   12/24   train_loss = 0.683\n",
      "Epoch 348 Batch    8/24   train_loss = 0.631\n",
      "Epoch 349 Batch    4/24   train_loss = 0.687\n",
      "Model Trained and Saved\n"
     ]
    }
   ],
   "source": [
    "\"\"\"\n",
    "DON'T MODIFY ANYTHING IN THIS CELL\n",
    "\"\"\"\n",
    "batches = get_batches(int_text, batch_size, seq_length)\n",
    "\n",
    "with tf.Session(graph=train_graph) as sess:\n",
    "    sess.run(tf.global_variables_initializer())\n",
    "\n",
    "    for epoch_i in range(num_epochs):\n",
    "        state = sess.run(initial_state, {input_text: batches[0][0]})\n",
    "\n",
    "        for batch_i, (x, y) in enumerate(batches):\n",
    "            feed = {\n",
    "                input_text: x,\n",
    "                targets: y,\n",
    "                initial_state: state,\n",
    "                lr: learning_rate}\n",
    "            train_loss, state, _ = sess.run([cost, final_state, train_op], feed)\n",
    "\n",
    "            # Show every <show_every_n_batches> batches\n",
    "            if (epoch_i * len(batches) + batch_i) % show_every_n_batches == 0:\n",
    "                print('Epoch {:>3} Batch {:>4}/{}   train_loss = {:.3f}'.format(\n",
    "                    epoch_i,\n",
    "                    batch_i,\n",
    "                    len(batches),\n",
    "                    train_loss))\n",
    "\n",
    "    # Save Model\n",
    "    saver = tf.train.Saver()\n",
    "    saver.save(sess, save_dir)\n",
    "    print('Model Trained and Saved')"
   ]
  },
  {
   "cell_type": "markdown",
   "metadata": {
    "deletable": true,
    "editable": true
   },
   "source": [
    "## Save Parameters\n",
    "Save `seq_length` and `save_dir` for generating a new TV script."
   ]
  },
  {
   "cell_type": "code",
   "execution_count": 18,
   "metadata": {
    "collapsed": false,
    "deletable": true,
    "editable": true
   },
   "outputs": [],
   "source": [
    "\"\"\"\n",
    "DON'T MODIFY ANYTHING IN THIS CELL\n",
    "\"\"\"\n",
    "# Save parameters for checkpoint\n",
    "helper.save_params((seq_length, save_dir))"
   ]
  },
  {
   "cell_type": "markdown",
   "metadata": {
    "deletable": true,
    "editable": true
   },
   "source": [
    "# Checkpoint"
   ]
  },
  {
   "cell_type": "code",
   "execution_count": 16,
   "metadata": {
    "collapsed": false,
    "deletable": true,
    "editable": true
   },
   "outputs": [],
   "source": [
    "\"\"\"\n",
    "DON'T MODIFY ANYTHING IN THIS CELL\n",
    "\"\"\"\n",
    "import tensorflow as tf\n",
    "import numpy as np\n",
    "import helper\n",
    "import problem_unittests as tests\n",
    "\n",
    "_, vocab_to_int, int_to_vocab, token_dict = helper.load_preprocess()\n",
    "seq_length, load_dir = helper.load_params()"
   ]
  },
  {
   "cell_type": "markdown",
   "metadata": {
    "deletable": true,
    "editable": true
   },
   "source": [
    "## Implement Generate Functions\n",
    "### Get Tensors\n",
    "Get tensors from `loaded_graph` using the function [`get_tensor_by_name()`](https://www.tensorflow.org/api_docs/python/tf/Graph#get_tensor_by_name).  Get the tensors using the following names:\n",
    "- \"input:0\"\n",
    "- \"initial_state:0\"\n",
    "- \"final_state:0\"\n",
    "- \"probs:0\"\n",
    "\n",
    "Return the tensors in the following tuple `(InputTensor, InitialStateTensor, FinalStateTensor, ProbsTensor)` "
   ]
  },
  {
   "cell_type": "code",
   "execution_count": 17,
   "metadata": {
    "collapsed": false,
    "deletable": true,
    "editable": true
   },
   "outputs": [
    {
     "name": "stdout",
     "output_type": "stream",
     "text": [
      "Tests Passed\n"
     ]
    }
   ],
   "source": [
    "def get_tensors(loaded_graph):\n",
    "    \"\"\"\n",
    "    Get input, initial state, final state, and probabilities tensor from <loaded_graph>\n",
    "    :param loaded_graph: TensorFlow graph loaded from file\n",
    "    :return: Tuple (InputTensor, InitialStateTensor, FinalStateTensor, ProbsTensor)\n",
    "    \"\"\"\n",
    "    # TODO: Implement Function\n",
    "    inputTensor = loaded_graph.get_tensor_by_name(\"input:0\")\n",
    "    initialStateTensor = loaded_graph.get_tensor_by_name(\"initial_state:0\")\n",
    "    finalStateTensor = loaded_graph.get_tensor_by_name(\"final_state:0\")\n",
    "    probsTensor = loaded_graph.get_tensor_by_name(\"probs:0\")\n",
    "    return inputTensor, initialStateTensor, finalStateTensor, probsTensor\n",
    "\n",
    "\n",
    "\"\"\"\n",
    "DON'T MODIFY ANYTHING IN THIS CELL THAT IS BELOW THIS LINE\n",
    "\"\"\"\n",
    "tests.test_get_tensors(get_tensors)"
   ]
  },
  {
   "cell_type": "markdown",
   "metadata": {
    "deletable": true,
    "editable": true
   },
   "source": [
    "### Choose Word\n",
    "Implement the `pick_word()` function to select the next word using `probabilities`."
   ]
  },
  {
   "cell_type": "code",
   "execution_count": 18,
   "metadata": {
    "collapsed": false,
    "deletable": true,
    "editable": true
   },
   "outputs": [
    {
     "name": "stdout",
     "output_type": "stream",
     "text": [
      "Tests Passed\n"
     ]
    }
   ],
   "source": [
    "def pick_word(probabilities, int_to_vocab):\n",
    "    \"\"\"\n",
    "    Pick the next word in the generated text\n",
    "    :param probabilities: Probabilites of the next word\n",
    "    :param int_to_vocab: Dictionary of word ids as the keys and words as the values\n",
    "    :return: String of the predicted word\n",
    "    \"\"\"\n",
    "    # TODO: Implement Function\n",
    "    # Replaced my original code here with a suggestion from the first reviewer.\n",
    "    # Modified the formatting for better readability\n",
    "    # Never knew about np.random.choice(). Cool function. Thanks! Much better than what I hacked together.\n",
    "    word_int_keys = list(int_to_vocab.keys())\n",
    "    index = np.random.choice(word_int_keys, p=probabilities)\n",
    "    predicted_word = int_to_vocab[index]\n",
    "    return predicted_word\n",
    "\n",
    "\n",
    "\"\"\"\n",
    "DON'T MODIFY ANYTHING IN THIS CELL THAT IS BELOW THIS LINE\n",
    "\"\"\"\n",
    "tests.test_pick_word(pick_word)"
   ]
  },
  {
   "cell_type": "markdown",
   "metadata": {
    "deletable": true,
    "editable": true
   },
   "source": [
    "## Generate TV Script\n",
    "This will generate the TV script for you.  Set `gen_length` to the length of TV script you want to generate."
   ]
  },
  {
   "cell_type": "code",
   "execution_count": 19,
   "metadata": {
    "collapsed": false,
    "deletable": true,
    "editable": true
   },
   "outputs": [
    {
     "name": "stdout",
     "output_type": "stream",
     "text": [
      "moe_szyslak: all right, but i get to commit a baby? what embarrassing?\n",
      "homer_simpson: oh how we great if i've say with you was better than my place?\n",
      "homer_simpson: ow!(watch a bar one phone and glove 'em) come, you like shooting and fix an free book... what screw, this place youse it goin' more tonight. 'cause you're too without the memory.\n",
      "all:(finishing noises) i didn't gotta go with a channel barney, whatever what even drinkin'!\n",
      "milhouse_van_houten: i know what i have for keeping because tomorrow.\n",
      "homer_simpson: here's here, eat your name.\n",
      "moe_szyslak: what's the nice! but this gets japanese them of glove do.\n",
      "\n",
      "moe_szyslak: wait a minute. can get yourself now...\n",
      "homer_simpson: i'll say you're one of her one / my tap! 8 going to ever flash-fry a new life and kermit like no more clinton. and when you should think this place like it is more one of them ain't drivin' them out now what are the polite way about it\n"
     ]
    }
   ],
   "source": [
    "gen_length = 200\n",
    "# homer_simpson, moe_szyslak, or Barney_Gumble\n",
    "prime_word = 'moe_szyslak'\n",
    "\n",
    "\"\"\"\n",
    "DON'T MODIFY ANYTHING IN THIS CELL THAT IS BELOW THIS LINE\n",
    "\"\"\"\n",
    "loaded_graph = tf.Graph()\n",
    "with tf.Session(graph=loaded_graph) as sess:\n",
    "    # Load saved model\n",
    "    loader = tf.train.import_meta_graph(load_dir + '.meta')\n",
    "    loader.restore(sess, load_dir)\n",
    "\n",
    "    # Get Tensors from loaded model\n",
    "    input_text, initial_state, final_state, probs = get_tensors(loaded_graph)\n",
    "\n",
    "    # Sentences generation setup\n",
    "    gen_sentences = [prime_word + ':']\n",
    "    prev_state = sess.run(initial_state, {input_text: np.array([[1]])})\n",
    "\n",
    "    # Generate sentences\n",
    "    for n in range(gen_length):\n",
    "        # Dynamic Input\n",
    "        dyn_input = [[vocab_to_int[word] for word in gen_sentences[-seq_length:]]]\n",
    "        dyn_seq_length = len(dyn_input[0])\n",
    "\n",
    "        # Get Prediction\n",
    "        probabilities, prev_state = sess.run(\n",
    "            [probs, final_state],\n",
    "            {input_text: dyn_input, initial_state: prev_state})\n",
    "        \n",
    "        pred_word = pick_word(probabilities[dyn_seq_length-1], int_to_vocab)\n",
    "\n",
    "        gen_sentences.append(pred_word)\n",
    "    \n",
    "    # Remove tokens\n",
    "    tv_script = ' '.join(gen_sentences)\n",
    "    for key, token in token_dict.items():\n",
    "        ending = ' ' if key in ['\\n', '(', '\"'] else ''\n",
    "        tv_script = tv_script.replace(' ' + token.lower(), key)\n",
    "    tv_script = tv_script.replace('\\n ', '\\n')\n",
    "    tv_script = tv_script.replace('( ', '(')\n",
    "        \n",
    "    print(tv_script)"
   ]
  },
  {
   "cell_type": "markdown",
   "metadata": {
    "deletable": true,
    "editable": true
   },
   "source": [
    "# The TV Script is Nonsensical\n",
    "It's ok if the TV script doesn't make any sense.  We trained on less than a megabyte of text.  In order to get good results, you'll have to use a smaller vocabulary or get more data.  Luckily there's more data!  As we mentioned in the beggining of this project, this is a subset of [another dataset](https://www.kaggle.com/wcukierski/the-simpsons-by-the-data).  We didn't have you train on all the data, because that would take too long.  However, you are free to train your neural network on all the data.  After you complete the project, of course.\n",
    "# Submitting This Project\n",
    "When submitting this project, make sure to run all the cells before saving the notebook. Save the notebook file as \"dlnd_tv_script_generation.ipynb\" and save it as a HTML file under \"File\" -> \"Download as\". Include the \"helper.py\" and \"problem_unittests.py\" files in your submission."
   ]
  }
 ],
 "metadata": {
  "kernelspec": {
   "display_name": "Python 3",
   "language": "python",
   "name": "python3"
  },
  "language_info": {
   "codemirror_mode": {
    "name": "ipython",
    "version": 3
   },
   "file_extension": ".py",
   "mimetype": "text/x-python",
   "name": "python",
   "nbconvert_exporter": "python",
   "pygments_lexer": "ipython3",
   "version": "3.5.5"
  },
  "widgets": {
   "state": {},
   "version": "1.1.2"
  }
 },
 "nbformat": 4,
 "nbformat_minor": 0
}
